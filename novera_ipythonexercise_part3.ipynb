{
 "metadata": {
  "name": "",
  "signature": "sha256:8b7cd2cb8260ce695177971d4dc3f182b535a19422e2c6702e56b8ab65bc869e"
 },
 "nbformat": 3,
 "nbformat_minor": 0,
 "worksheets": [
  {
   "cells": [
    {
     "cell_type": "markdown",
     "metadata": {},
     "source": [
      "Write your name here. (Family name, First name, Middle Initial)\n",
      "No need to write the date when you finished this (the nbconvert conversion to pdf file will put the date accordingly).\n"
     ]
    },
    {
     "cell_type": "markdown",
     "metadata": {},
     "source": [
      "\n",
      "Instructions\n",
      "\n",
      "1.  When creating a new IPython notebook, you need to rename your notebook, which has an .ipynb name extension.  The naming convention: familyname\\_ipython\\_exercise\\_part3\\_(notebook).\n",
      "\n",
      "2.  To be able to answer the exercises adequately, you need to go through the basic tutorial (http://nbviewer.ipython.org/github/adrn/ipython/blob/2.x/examples/Notebook/Index.ipynb)\n",
      "\n",
      "3.  When you are ready to answer the questions, please make sure to follow the outline organization by using the Markdown and Heading options in the menu bar.\n",
      "\n",
      "4.  Once you finish answering the exercise, convert your notebook to PDF file (make sure you are using the correct naming convention stipulated in number 1).  Push to your ipython github repository (see exercise_part1 for naming convention and creation of github repository specific for IPython and IPython notebook exercises)."
     ]
    },
    {
     "cell_type": "markdown",
     "metadata": {},
     "source": [
      "Embed the ipython notebook logo here.  Download from http://ipython.org/_static/IPy_header.png. Save the image accordingly.\n",
      "If you did the tutorial, this should be simple.\n",
      "(Hint:  from IPython.display import Image)"
     ]
    },
    {
     "cell_type": "heading",
     "level": 1,
     "metadata": {},
     "source": [
      "The IPython Notebook"
     ]
    },
    {
     "cell_type": "markdown",
     "metadata": {},
     "source": [
      "   The IPython Notebook is a web-based interactive computational environment where you can combine code execution, text, mathematics, plots and rich media into a single document.\n",
      "\n",
      "   These notebooks are regular files that can be shared with colleagues and converted to other formats such as HTML and PDF.  You can also publicly share available notebooks using the IPython Notebook Viewer service which will render these files as static web pages."
     ]
    },
    {
     "cell_type": "heading",
     "level": 1,
     "metadata": {},
     "source": [
      "Introduction"
     ]
    },
    {
     "cell_type": "markdown",
     "metadata": {},
     "source": [
      "The notebook extends the console-based approach to interactive computing in a qualitatively new direction, providing a web-based application suitable for capturing the whole computation process: developing, documenting, and executing code, as well as communicating the results. "
     ]
    },
    {
     "cell_type": "markdown",
     "metadata": {},
     "source": [
      "1.  The IPython notebook combines two components.  What are these?  Briefly explain each."
     ]
    },
    {
     "cell_type": "heading",
     "level": 2,
     "metadata": {},
     "source": [
      "Main Features of the Web Application"
     ]
    },
    {
     "cell_type": "markdown",
     "metadata": {},
     "source": [
      "2.  Briefly summarize some of the main features of the web application.\n",
      "\n",
      "3.  Embed/Display a YouTube Video delivered by Brian Granger and Jonathan Fredric on the IPython Notebook Tutorial (https://www.youtube.com/watch?v=VaV10VNZCLA) (Hint:  from IPython.display import YouTubeVideo)\n"
     ]
    },
    {
     "cell_type": "heading",
     "level": 2,
     "metadata": {},
     "source": [
      "Notebook Documents"
     ]
    },
    {
     "cell_type": "markdown",
     "metadata": {},
     "source": [
      "Notebook documents contains the inputs and outputs of an interactive session as well as additional text that accompanies the code but is not meant for execution.  In this way, notebook files can serve as a complete computational record of a session, interleaving executable code with explanatory text, mathematics, and rich representation of resulting objects.\n",
      "\n",
      "4.  What are JSON files?\n",
      "5.  Can JSON files be version-controlled?  Why?\n",
      "6.  What service allows you to share any .piynb notebook document via a public url?  Install this in your linux system (Hint:  sudo apt-get install: pandoc, texlive-latex-extra)"
     ]
    },
    {
     "cell_type": "heading",
     "level": 1,
     "metadata": {},
     "source": [
      "The Notebook Server"
     ]
    },
    {
     "cell_type": "markdown",
     "metadata": {},
     "source": [
      "The IPython notebook server is a custom web server that runs the notebook web application.  Most of the time, users run the notebook server on their local computer using IPython's command line interface.  \n",
      "\n",
      "7. What is the command to start the notebook server?  What is the default URL of this web application?  What is the default port?\n",
      "8. How do specify the port manually?\n",
      "9. How do you start the notebook server without opening a web browser?"
     ]
    },
    {
     "cell_type": "heading",
     "level": 2,
     "metadata": {},
     "source": [
      "Creating A New Notebook Document"
     ]
    },
    {
     "cell_type": "markdown",
     "metadata": {},
     "source": [
      "10.  How do you create a new notebook document (from the dashboard and from within an active notebook)?"
     ]
    },
    {
     "cell_type": "heading",
     "level": 2,
     "metadata": {},
     "source": [
      "Opening Notebooks"
     ]
    },
    {
     "cell_type": "markdown",
     "metadata": {},
     "source": [
      "An open notebook has exactly one interactive session connected to an IPython kernel, which will execute code sent by the user and communicate back the results.  This kernel remains active if the web browser window is closed, and reopening the same notebook from the dashboard will reconnect the web application to the same kernel.\n",
      "\n",
      "11.  What is a kernel?\n",
      "12.  The Shutdown button and the Delete button in your dashboard is usually associated with which notebooks?\n",
      "13.  What is your kernel's ID (Hint use the magic function %connect_info)\n",
      "14.  If you want to manually start a Qt console connected to the same kernel (answer to number 13), what is the command to use?  (Remember: without an ID: the default is to connect to the most recently started kernel)."
     ]
    },
    {
     "cell_type": "heading",
     "level": 1,
     "metadata": {},
     "source": [
      "Notebook User Interface"
     ]
    },
    {
     "cell_type": "markdown",
     "metadata": {},
     "source": [
      "When you create a new notebook document, you will be present with the notebook name, a menu bar, a toolbar, and an empty code cell.\n",
      "\n",
      "15.  Briefly explain each."
     ]
    },
    {
     "cell_type": "heading",
     "level": 1,
     "metadata": {},
     "source": [
      "Structure of A Notebook Document "
     ]
    },
    {
     "cell_type": "markdown",
     "metadata": {},
     "source": [
      "The notebook consists of a sequence of cells.\n",
      "\n",
      "16.  What is a cell?\n",
      "17.  How do you run or execute a cell?\n",
      "18.  There are four types of cells.  What are these?  Briefly explain each.\n",
      "19.  Find an image of keyboard shortcuts in IPython notebook and embed the image here.\n",
      "20.  Find an image of magic functions in IPython (which is applicable in the notebook environment) and embed the image here."
     ]
    },
    {
     "cell_type": "heading",
     "level": 1,
     "metadata": {},
     "source": [
      "Basic Workflow"
     ]
    },
    {
     "cell_type": "markdown",
     "metadata": {},
     "source": [
      "The normal workflow in a notebooks is quite similar to a standard IPython session, with the difference that you can edit cells in-place multiple times until you obtain the desired results, rather than having to rerun separate scripts with the %run magic command.\n",
      "\n",
      "Typically you will work on a computational problem in pieces, organizing related ideas into cells and moving forward once previous parts work correctly.  This is much more convenient for interactive exploration than breaking up a computation into scripts that must be executed together, as was previously necessary, especially if parts of them take a long time to run.\n",
      "\n",
      "21.  At certain moments, it may be necessary to interrupt a calculation which is taking too long to complete.  How do you do that from the menu option and from the keyboard shortcut?\n",
      "\n",
      "22.  It may be necessary or desirable to start the whole computational process.  How do you do that from the menu option and from the keyboard shortcut?"
     ]
    },
    {
     "cell_type": "heading",
     "level": 2,
     "metadata": {},
     "source": [
      "Keyboard Shortcuts"
     ]
    },
    {
     "cell_type": "markdown",
     "metadata": {},
     "source": [
      "All actions in the notebook can be performed with the mouse, but keyboard shortcuts are also available for the most common ones.  The essential shortcuts to remember are the following: Shift-Enter, Ctrl-Enter, Alt-Enter, Esc and Enter.\n",
      "\n",
      "23.  Briefly explain what each does.\n",
      "\n",
      "For a full list of available shortcuts, click Help, Keyboard Shortcuts in the notebook menu."
     ]
    },
    {
     "cell_type": "heading",
     "level": 1,
     "metadata": {},
     "source": [
      "Plotting"
     ]
    },
    {
     "cell_type": "markdown",
     "metadata": {},
     "source": [
      "One of the major feature of the notebook is the ability to display plots that are the output of running code cells.  IPython is designed to work seamlessly with the matplotlib plotting library to provide this functionality.\n",
      "\n",
      "24.  What magic command should you invoke to set up the matplotlib integration? (This performs the necessary behind-the-scenes setup for IPython to work correctly hand in hand with matplotlib: it does not, however, execute any Python import commands.  That is, no names are added to the namespace.)\n",
      "\n",
      "25.  What is the default backend if the magic function invoked in number 24 is called without an argument.\n",
      "\n",
      "26.  What is the gtk backend option?\n",
      "\n",
      "27.  Which backend option should you invoke to ensure that the output of the plotting commands is displayed within the notebook, directly below the code cell that produced it? (The resulting plots will then be stored in the notebook document.)"
     ]
    },
    {
     "cell_type": "heading",
     "level": 1,
     "metadata": {},
     "source": [
      "Configuring the IPython Notebook"
     ]
    },
    {
     "cell_type": "markdown",
     "metadata": {},
     "source": [
      "The notebook server can be run with a variety of command line arguments.  To see a list of available option use the --help option.  \n",
      "\n",
      "Defaults for these options can also be set by creating a file named ipython_notebook_config.py in your IPython profile folder.  The profile folder is a subfolder of your IPYthon directory.\n",
      "\n",
      "28. To find out where the IPython profile folder is located, what command do you run?\n",
      "29.  To create a new set of default configuration files, what command do you run?"
     ]
    },
    {
     "cell_type": "heading",
     "level": 1,
     "metadata": {},
     "source": [
      "Converting Notebooks To Other Formats"
     ]
    },
    {
     "cell_type": "markdown",
     "metadata": {},
     "source": [
      "Currently, nbconvert is provided as a command line tooll, run as a script using IPython.\n",
      "\n",
      "30.  What is the command-line syntax to run the nbconvert script?\n",
      "31.  What is the default output format?\n",
      "32.  Give 5 other export formats that can be specified using the --to argument?"
     ]
    },
    {
     "cell_type": "heading",
     "level": 1,
     "metadata": {},
     "source": [
      "Running A Notebook Server"
     ]
    },
    {
     "cell_type": "markdown",
     "metadata": {},
     "source": [
      "The IPython notebook web-application is based on a server-client structure.  This server uses a two-process kernel architecture based on ZeroMQ and Tornado for serving HTTP requests.  By default, a notebook server runs on http://127.0.0.1:8888/ and is accessible only from local host.\n",
      "\n",
      "33.  You can protect your notebook server with a simple single password.  How do you do that?\n",
      "34.  What function do you import/use to prepare a hased password?\n",
      "35.  How do you add your configured password to your ipython_notebook_config.py?\n",
      "36.  Why is it a good idea to use SSL when using a password?\n",
      "37.  How do you create a self-signed certificate?  How is it generated?  (Hint:  openssl)\n",
      "\n",
      "You can access your notebook server remotely via a web browser.\n",
      "\n",
      "38.  How do you create a custom profile for your notebook in order to make it accessible via the web browser?"
     ]
    },
    {
     "cell_type": "heading",
     "level": 1,
     "metadata": {},
     "source": [
      "Security in IPython Notebooks"
     ]
    },
    {
     "cell_type": "markdown",
     "metadata": {},
     "source": [
      "39.  What are the security issues in using IPython Notebooks?\n",
      "40.  What are some of the security tools used in IPython Notebook?  Briefly summarize."
     ]
    },
    {
     "cell_type": "markdown",
     "metadata": {},
     "source": [
      "Final note:  how do you convert this .ipynb file to a PDF file?  If you do not want to run it separately from the linux command line, how do you introduce a bash shell within your notebook cell?\n"
     ]
    },
    {
     "cell_type": "code",
     "collapsed": false,
     "input": [
      "%%bash\n",
      "ipython nbconvert ipython_exercise_part3_\\(notebook\\).ipynb --to latex --post PDF"
     ],
     "language": "python",
     "metadata": {},
     "outputs": [
      {
       "output_type": "stream",
       "stream": "stderr",
       "text": [
        "[NbConvertApp] Using existing profile dir: u'/home/frances/.ipython/profile_default'\n",
        "[NbConvertApp] Converting notebook ipython_exercise_part3_(notebook).ipynb to latex\n",
        "[NbConvertApp] Support files will be in ipython_exercise_part3_(notebook)_files/\n",
        "[NbConvertApp] Loaded template article.tplx\n",
        "[NbConvertApp] Writing 24753 bytes to ipython_exercise_part3_(notebook).tex\n",
        "[NbConvertApp] Building PDF\n",
        "[NbConvertApp] Running pdflatex 3 times: [u'pdflatex', u'ipython_exercise_part3_(notebook).tex']\n",
        "[NbConvertApp] Running bibtex 1 time: [u'bibtex', u'ipython_exercise_part3_(notebook)']\n",
        "[NbConvertApp] WARNING | bibtex had problems, most likely because there were no citations\n",
        "[NbConvertApp] Removing temporary LaTeX files\n",
        "[NbConvertApp] PDF successfully created\n"
       ]
      }
     ],
     "prompt_number": 33
    },
    {
     "cell_type": "code",
     "collapsed": false,
     "input": [],
     "language": "python",
     "metadata": {},
     "outputs": []
    }
   ],
   "metadata": {}
  }
 ]
}